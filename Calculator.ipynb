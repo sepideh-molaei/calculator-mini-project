{
 "cells": [
  {
   "cell_type": "code",
   "execution_count": null,
   "id": "ecbce606",
   "metadata": {},
   "outputs": [],
   "source": [
    "import math\n",
    "print(\"For addition, use: +\\nFor subtraction, use: -\\nFor addition, use: +\\nFor multiplication, use: *\\nFor division, use: /\\nFor square root, use: @\\nFor power, use:**\\nFor remain, use: % \")\n",
    "list_1 = ['-','+','/','*','%','**']\n",
    "list_2 = ['@']\n",
    "yes = [\"Yes\" , \"yes\" , \"YES\", \"Y\" ,\"y\",\"YeS\",\"yES\", 'yeS','YEs']\n",
    "\n",
    "def calculate():\n",
    "\n",
    " char = input(\"\\nwhat operator do you want select? \")\n",
    " if char in list_2 :\n",
    "     a = float(input(\"please enter the number: \")) \n",
    "     print(f\"answer: {math.sqrt(a)}\")\n",
    " elif char in  list_1:\n",
    "        a = float(input(\"please enter first number: \"))  \n",
    "        b = float(input(\"please enter second number: \"))\n",
    "        if char =='+':\n",
    "         print(f\"answer: {a+b}\")\n",
    "        elif char =='-':\n",
    "         print(f\"answer: {a-b}\")\n",
    "        elif char == '*':\n",
    "         print(f\"answer:{a*b}\")\n",
    "        elif char =='/':\n",
    "         print(f\"answer: {a/b}\")\n",
    "        elif char =='%':\n",
    "         print(f\"answer: {a%b}\")\n",
    "        elif char =='**':\n",
    "         print(f\"answer: {a**b}\")  \n",
    " else:\n",
    "    print(\"\\nThe operatin is not defined!\")   \n",
    "calculate()   \n",
    "a= input(\"\\nDo you watn to continue? Yes / No   \")\n",
    "if a in yes:\n",
    "  calculate()\n",
    "else:\n",
    "  print(\"\\nHave a good time\")  "
   ]
  },
  {
   "cell_type": "code",
   "execution_count": null,
   "id": "f1b38594",
   "metadata": {},
   "outputs": [],
   "source": []
  }
 ],
 "metadata": {
  "kernelspec": {
   "display_name": "Python 3 (ipykernel)",
   "language": "python",
   "name": "python3"
  },
  "language_info": {
   "codemirror_mode": {
    "name": "ipython",
    "version": 3
   },
   "file_extension": ".py",
   "mimetype": "text/x-python",
   "name": "python",
   "nbconvert_exporter": "python",
   "pygments_lexer": "ipython3",
   "version": "3.10.6"
  }
 },
 "nbformat": 4,
 "nbformat_minor": 5
}
